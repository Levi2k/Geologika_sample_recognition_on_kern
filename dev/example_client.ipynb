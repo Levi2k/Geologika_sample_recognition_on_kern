{
 "cells": [
  {
   "cell_type": "code",
   "execution_count": 15,
   "id": "51559104",
   "metadata": {},
   "outputs": [
    {
     "name": "stdout",
     "output_type": "stream",
     "text": [
      "connecting to user-desktop (user-desktop) with 127.0.1.1\n",
      "enter filename: 3\n",
      "{'id': 1, 'data': [{'text': 'P887/7-1b', 'bbox': [50, 168, 255, 87], 'conf': 0.9196330308914185}], 'success': True}\n",
      "FINISH\n",
      "bye\n"
     ]
    }
   ],
   "source": [
    "import socket\n",
    "import time\n",
    "import codecs\n",
    "import io\n",
    "import os\n",
    "import json\n",
    "import cv2\n",
    "import base64\n",
    "from PIL import Image\n",
    "import sys\n",
    "import traceback as tb\n",
    "\n",
    "## -----Creating socket and getting information about it\n",
    "sock = socket.socket(socket.AF_INET, socket.SOCK_STREAM) \n",
    "local_hostname = socket.gethostname() \n",
    "local_fqdn = socket.getfqdn() ##---get fully qualified hostname\n",
    "\n",
    "## -----Connection to server\n",
    "ip_adress = socket.gethostbyname(local_hostname) \n",
    "server_adress = (ip_adress, 23458) ##---Bind the socket to the port and connect\n",
    "sock.connect(server_adress)\n",
    "print (\"connecting to %s (%s) with %s\" % (local_hostname, local_fqdn, ip_adress))\n",
    "\n",
    "id = 1 ##---Request number\n",
    "filename = input(\"enter filename: \")\n",
    "\n",
    "try:\n",
    "    ### -----Reading image\n",
    "    if os.path.exists('yolov5/test/images/%s.jpg' % filename):\n",
    "        file = codecs.open('yolov5/test/images/%s.jpg' % filename, \"rb\")\n",
    "        request = {\"id\":id, \"data\":b''} ##---Request on server\n",
    "\n",
    "        ### -----Writing image to request\n",
    "        while True:\n",
    "            file_data = file.read(2**18) \n",
    "            request[\"data\"] += file_data  \n",
    "            if not file_data:\n",
    "                break\n",
    "\n",
    "        ### -----Sending request in json\n",
    "        b64string = base64.b64encode(request[\"data\"]) \n",
    "        request[\"data\"] = b64string.decode() ### ---Bytes to string\n",
    "        sock.send(json.dumps(request).encode()) \n",
    "\n",
    "        ### -----Getting response from server\n",
    "        answer = sock.recv(2**18) ##---Response in bytes\n",
    "        answer_json = answer.decode() ##---Bytes to json\n",
    "        result = json.loads(answer_json) \n",
    "        print(result)\n",
    "\n",
    "        ### -----Printing result\n",
    "#         if result[\"data\"]:\n",
    "#             print('res is: ' + str(result[\"data\"]))    \n",
    "        time.sleep(2)\n",
    "        print('FINISH')\n",
    "        id = id+1\n",
    "    else:\n",
    "        print('no such file, error')\n",
    "    \n",
    "### -----Exception    \n",
    "except Exception as e:\n",
    "    if os.path.exists('yolov5/test/images/%s.jpg' % filename) == False:\n",
    "        print('no such file')\n",
    "    exception_type, exception_object, exception_traceback = sys.exc_info()\n",
    "    filename = exception_traceback.tb_frame.f_code.co_filename\n",
    "    line_number = exception_traceback.tb_lineno\n",
    "    print(\"Exception type: \", exception_type)\n",
    "    print(\"File name: \", filename)\n",
    "    print(\"Line number: \", line_number)\n",
    "    raise e\n",
    "    \n",
    "finally:\n",
    "    sock.close()\n",
    "    print('bye')\n"
   ]
  },
  {
   "cell_type": "code",
   "execution_count": 10,
   "id": "45ad4e7a",
   "metadata": {},
   "outputs": [
    {
     "data": {
      "image/jpeg": "[encoded data removed]",
      "text/plain": [
       "<IPython.core.display.Image object>"
      ]
     },
     "execution_count": 10,
     "metadata": {},
     "output_type": "execute_result"
    }
   ],
   "source": [
    "import cv2, random\n",
    "import numpy as np\n",
    "from io import BytesIO\n",
    "import PIL.Image\n",
    "import IPython.display\n",
    "\n",
    "def array_to_image(a, fmt='jpeg'):\n",
    "    f = BytesIO()    \n",
    "    PIL.Image.fromarray(a).save(f, fmt)    \n",
    "    return IPython.display.Image(data=f.getvalue())\n",
    "\n",
    "def plot_one_box_xywh(x, img, color=None, label=None, line_thickness=3):\n",
    "    tl = line_thickness or round(0.002 * (img.shape[0] + img.shape[1]) / 2) + 1  # line/font thickness\n",
    "    color = color or [random.randint(0, 255) for _ in range(3)]\n",
    "#     c1, c2 = (int(x[0]), int(x[1])), (int(x[2]), int(x[3]))\n",
    "    c1, c2 = (x[0],x[1]), (x[0]+x[2],x[1]+x[3]),\n",
    "    cv2.rectangle(img, c1, c2, color, thickness=tl, lineType=cv2.LINE_AA)\n",
    "    if label:\n",
    "        tf = max(tl - 1, 1)  # font thickness\n",
    "        t_size = cv2.getTextSize(label, 0, fontScale=tl / 3, thickness=tf)[0]\n",
    "        c2 = c1[0] + t_size[0], c1[1] - t_size[1] - 3\n",
    "        cv2.rectangle(img, c1, c2, color, -1, cv2.LINE_AA)  # filled\n",
    "        cv2.putText(img, label, (c1[0], c1[1] - 2), 0, tl / 3, [225, 255, 255], thickness=tf, lineType=cv2.LINE_AA)\n",
    "    return img\n",
    "\n",
    "img = PIL.Image.open( BytesIO(base64.b64decode(request[\"data\"])))\n",
    "img = np.array(img)\n",
    "\n",
    "for data in result['data']:\n",
    "    img = plot_one_box_xywh(\n",
    "        data['bbox'], \n",
    "        img,\n",
    "        label='Text %s [%.2f]' % (data['conf'], data['text']), \n",
    "        line_thickness=2)\n",
    "array_to_image(img)\n"
   ]
  }
 ],
 "metadata": {
  "kernelspec": {
   "display_name": "Python 3 (ipykernel)",
   "language": "python",
   "name": "python3"
  },
  "language_info": {
   "codemirror_mode": {
    "name": "ipython",
    "version": 3
   },
   "file_extension": ".py",
   "mimetype": "text/x-python",
   "name": "python",
   "nbconvert_exporter": "python",
   "pygments_lexer": "ipython3",
   "version": "3.9.12"
  }
 },
 "nbformat": 4,
 "nbformat_minor": 5
}
